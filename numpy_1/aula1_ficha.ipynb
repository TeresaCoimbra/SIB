{
 "cells": [
  {
   "cell_type": "markdown",
   "metadata": {},
   "source": [
    "# Ficha de trabalho 1\n",
    "\n",
    "Conteúdos:\n",
    "* Utilização do package NumPy.\n",
    "* Manipulação de matrizes e vetores.\n",
    "* Conceitos básicos de algebra linear: matriz identidade, multiplicação de matrizes, inversa.\n",
    "\n",
    "======================================================\n",
    "\n",
    "\n",
    "1 - Considera o peso e altura referente a 12 pessoas. \n",
    "```python\n",
    "alturas: [1.73, 1.89, 2.03, 1.61, 1.57, 1.90, 1.73, 1.65, 1.59, 1.65, 1.71, 1.68]\n",
    "pesos: [89, 79, 110, 60, 51, 88, 68, 67, 56, 65, 85, 67]\n",
    "```\n",
    "Usando a classe ndarray do package NumPy, cria uma matriz  em que a primeira linha tenha a altura e a segunda os pesos associados a cada uma das pessoas.\n"
   ]
  },
  {
   "cell_type": "code",
   "execution_count": 1,
   "metadata": {},
   "outputs": [],
   "source": [
    "import numpy as np\n",
    "alturas = [1.73, 1.89, 2.03, 1.61, 1.57, 1.90, 1.73, 1.65, 1.59, 1.65, 1.71, 1.68]\n",
    "pesos = [89, 79, 110, 60, 51, 88, 68, 67, 56, 65, 85, 67]"
   ]
  },
  {
   "cell_type": "code",
   "execution_count": 2,
   "metadata": {},
   "outputs": [],
   "source": [
    "a = np.array(alturas)\n",
    "p = np.array(pesos)"
   ]
  },
  {
   "cell_type": "code",
   "execution_count": 3,
   "metadata": {},
   "outputs": [
    {
     "data": {
      "text/plain": [
       "array([[  1.73,   1.89,   2.03,   1.61,   1.57,   1.9 ,   1.73,   1.65,\n",
       "          1.59,   1.65,   1.71,   1.68],\n",
       "       [ 89.  ,  79.  , 110.  ,  60.  ,  51.  ,  88.  ,  68.  ,  67.  ,\n",
       "         56.  ,  65.  ,  85.  ,  67.  ]])"
      ]
     },
     "execution_count": 3,
     "metadata": {},
     "output_type": "execute_result"
    }
   ],
   "source": [
    "ap = np.vstack((a,p))\n",
    "ap\n",
    "# ou mat = np.array([alturas, pesos])"
   ]
  },
  {
   "cell_type": "code",
   "execution_count": 4,
   "metadata": {},
   "outputs": [],
   "source": [
    "ap.shape = 2,12"
   ]
  },
  {
   "cell_type": "markdown",
   "metadata": {},
   "source": [
    "2 - Quantas dimensões tem o array? Qual o tamanho de cada uma das dimensões?"
   ]
  },
  {
   "cell_type": "code",
   "execution_count": 5,
   "metadata": {},
   "outputs": [
    {
     "name": "stdout",
     "output_type": "stream",
     "text": [
      "ndim:  2\n",
      "shape:  (2, 12)\n",
      "size:  24\n",
      "dtype:  float64\n",
      "itemsize:  8\n",
      "O array tem 2 dimensões, cada uma com 12 elementos.\n"
     ]
    }
   ],
   "source": [
    "print(\"ndim: \", ap.ndim)\n",
    "print(\"shape: \", ap.shape)\n",
    "print(\"size: \", ap.size)\n",
    "print(\"dtype: \", ap.dtype)\n",
    "print(\"itemsize: \", ap.itemsize)\n",
    "\n",
    "print(\"O array tem 2 dimensões, cada uma com 12 elementos.\")"
   ]
  },
  {
   "cell_type": "markdown",
   "metadata": {},
   "source": [
    "3 - Com base na informação presente no objeto **mat**, calcula o IMC de cada uma das pessoas. (IMC = peso/altura^2) (operador de potência: ** )"
   ]
  },
  {
   "cell_type": "code",
   "execution_count": 6,
   "metadata": {},
   "outputs": [
    {
     "name": "stdout",
     "output_type": "stream",
     "text": [
      "[[1.73 1.89 2.03 1.61 1.57 1.9  1.73 1.65 1.59 1.65 1.71 1.68]]\n",
      "[[1.73 1.89 2.03 1.61 1.57 1.9  1.73 1.65 1.59 1.65 1.71 1.68]]\n",
      "[1.73 1.89 2.03 1.61 1.57 1.9  1.73 1.65 1.59 1.65 1.71 1.68]\n",
      "[ 89.  79. 110.  60.  51.  88.  68.  67.  56.  65.  85.  67.]\n",
      "-------\n",
      "[[  1.73   1.89   2.03   1.61   1.57   1.9    1.73   1.65   1.59   1.65\n",
      "    1.71   1.68]\n",
      " [ 89.    79.   110.    60.    51.    88.    68.    67.    56.    65.\n",
      "   85.    67.  ]]\n"
     ]
    }
   ],
   "source": [
    "mat = ap\n",
    "print(mat[:1])\n",
    "print(mat[[0]])\n",
    "print(mat[0])\n",
    "print(mat[1])\n",
    "print('-------')\n",
    "print(mat)"
   ]
  },
  {
   "cell_type": "code",
   "execution_count": 7,
   "metadata": {},
   "outputs": [],
   "source": [
    "imc = mat[1]/(mat[0]**2)\n",
    "# imc = mat[1,:]/mat[0,:]**2"
   ]
  },
  {
   "cell_type": "code",
   "execution_count": 8,
   "metadata": {},
   "outputs": [
    {
     "name": "stdout",
     "output_type": "stream",
     "text": [
      "imc [29.73704434 22.11584222 26.69319809 23.14725512 20.69049454 24.3767313\n",
      " 22.72043837 24.6097337  22.15102251 23.87511478 29.0687733  23.73866213]\n",
      "size 12\n"
     ]
    }
   ],
   "source": [
    "print('imc', imc)\n",
    "print('size', imc.size)"
   ]
  },
  {
   "cell_type": "markdown",
   "metadata": {},
   "source": [
    "4 - Sabendo que pessoas com IMC acima de 25 têm excesso de peso, quantas pessoas estão numa situação de excesso de peso?"
   ]
  },
  {
   "cell_type": "code",
   "execution_count": 9,
   "metadata": {},
   "outputs": [
    {
     "data": {
      "text/plain": [
       "array([29.73704434, 26.69319809, 29.0687733 ])"
      ]
     },
     "execution_count": 9,
     "metadata": {},
     "output_type": "execute_result"
    }
   ],
   "source": [
    "imc2 = imc[imc>25]\n",
    "imc2"
   ]
  },
  {
   "cell_type": "code",
   "execution_count": 10,
   "metadata": {},
   "outputs": [
    {
     "data": {
      "text/plain": [
       "3"
      ]
     },
     "execution_count": 10,
     "metadata": {},
     "output_type": "execute_result"
    }
   ],
   "source": [
    "#outras hipóteses\n",
    "len(imc[imc>25])\n",
    "sum(imc>25)"
   ]
  },
  {
   "cell_type": "markdown",
   "metadata": {},
   "source": [
    "5 - Constroi um novo array com base no anterior, onde a primeira coluna contenha a altura, a segunda o peso e a terceira o IMC."
   ]
  },
  {
   "cell_type": "code",
   "execution_count": 11,
   "metadata": {},
   "outputs": [
    {
     "data": {
      "text/plain": [
       "(12, 3)"
      ]
     },
     "execution_count": 11,
     "metadata": {},
     "output_type": "execute_result"
    }
   ],
   "source": [
    "mat2 = np.column_stack((mat.transpose(), imc))\n",
    "mat2.shape"
   ]
  },
  {
   "cell_type": "code",
   "execution_count": 12,
   "metadata": {},
   "outputs": [
    {
     "data": {
      "text/plain": [
       "array([[  1.73      ,  89.        ,  29.73704434],\n",
       "       [  1.89      ,  79.        ,  22.11584222],\n",
       "       [  2.03      , 110.        ,  26.69319809],\n",
       "       [  1.61      ,  60.        ,  23.14725512],\n",
       "       [  1.57      ,  51.        ,  20.69049454],\n",
       "       [  1.9       ,  88.        ,  24.3767313 ],\n",
       "       [  1.73      ,  68.        ,  22.72043837],\n",
       "       [  1.65      ,  67.        ,  24.6097337 ],\n",
       "       [  1.59      ,  56.        ,  22.15102251],\n",
       "       [  1.65      ,  65.        ,  23.87511478],\n",
       "       [  1.71      ,  85.        ,  29.0687733 ],\n",
       "       [  1.68      ,  67.        ,  23.73866213]])"
      ]
     },
     "execution_count": 12,
     "metadata": {},
     "output_type": "execute_result"
    }
   ],
   "source": [
    "mat2"
   ]
  },
  {
   "cell_type": "markdown",
   "metadata": {},
   "source": [
    "6 - Calcula o valor máximo, mínimo e o valor médio do IMC."
   ]
  },
  {
   "cell_type": "code",
   "execution_count": 13,
   "metadata": {},
   "outputs": [
    {
     "name": "stdout",
     "output_type": "stream",
     "text": [
      "29.737044338267232\n",
      "20.690494543389182\n",
      "24.410359200529246\n"
     ]
    }
   ],
   "source": [
    "print(np.max(mat2[:,2]))\n",
    "print(mat2[:,2].min())\n",
    "print(np.mean(mat2, axis=0)[2]) # ir buscar o terceiro valor que estamos à procura"
   ]
  },
  {
   "cell_type": "markdown",
   "metadata": {},
   "source": [
    "7 - Cria uma matriz 2x3 com valores aleatórios, e outra matrix 3x2 com valores pares sequenciais de 2 até 12, inclusivé."
   ]
  },
  {
   "cell_type": "code",
   "execution_count": 14,
   "metadata": {},
   "outputs": [
    {
     "data": {
      "text/plain": [
       "array([[0.24055823, 0.72880081, 0.03572637],\n",
       "       [0.21647899, 0.87860199, 0.78129863]])"
      ]
     },
     "execution_count": 14,
     "metadata": {},
     "output_type": "execute_result"
    }
   ],
   "source": [
    "from numpy.random import *\n",
    "r1 = rand(2,3) #matriz 2*3 com valores aleatórios\n",
    "r1"
   ]
  },
  {
   "cell_type": "code",
   "execution_count": 15,
   "metadata": {},
   "outputs": [
    {
     "data": {
      "text/plain": [
       "array([ 2,  4,  6,  8, 10, 12])"
      ]
     },
     "execution_count": 15,
     "metadata": {},
     "output_type": "execute_result"
    }
   ],
   "source": [
    "np.arange(2,14,2) #semelhante ao range"
   ]
  },
  {
   "cell_type": "markdown",
   "metadata": {},
   "source": [
    "8 - Calcula a multiplicação das duas matrizes e guarda o resultado numa variável designada por *mul*."
   ]
  },
  {
   "cell_type": "code",
   "execution_count": 16,
   "metadata": {},
   "outputs": [
    {
     "name": "stdout",
     "output_type": "stream",
     "text": [
      "Matriz a: \n",
      " [[1 2]\n",
      " [3 4]]\n",
      "Matriz b: \n",
      " [[-1  3]\n",
      " [ 4  2]]\n",
      "Dot product a.b:\n",
      "[[ 7  7]\n",
      " [13 17]]\n",
      "***Multiplicação elemento a elemento***\n",
      "[[-1  6]\n",
      " [12  8]]\n"
     ]
    }
   ],
   "source": [
    "a = np.array([[1,2],[3,4]])\n",
    "b = np.array([[-1,3],[4,2]])\n",
    "print('Matriz a: \\n',a)\n",
    "print('Matriz b: \\n',b)\n",
    "print('Dot product a.b:')\n",
    "mul = np.dot(a,b)\n",
    "print(mul)\n",
    "print('***Multiplicação elemento a elemento***')\n",
    "mul2 = a * b\n",
    "print(mul2)"
   ]
  },
  {
   "cell_type": "markdown",
   "metadata": {},
   "source": [
    "9 - Cria a matriz identidade de tamanho 2. (explora as funções numpy.eye e numpy.identity)"
   ]
  },
  {
   "cell_type": "code",
   "execution_count": 17,
   "metadata": {},
   "outputs": [
    {
     "data": {
      "text/plain": [
       "array([[1., 0.],\n",
       "       [0., 1.]])"
      ]
     },
     "execution_count": 17,
     "metadata": {},
     "output_type": "execute_result"
    }
   ],
   "source": [
    "np.eye(2)"
   ]
  },
  {
   "cell_type": "code",
   "execution_count": 18,
   "metadata": {},
   "outputs": [
    {
     "data": {
      "text/plain": [
       "array([[1., 0.],\n",
       "       [0., 1.]])"
      ]
     },
     "execution_count": 18,
     "metadata": {},
     "output_type": "execute_result"
    }
   ],
   "source": [
    "np.identity(2)"
   ]
  },
  {
   "cell_type": "markdown",
   "metadata": {},
   "source": [
    "10 - Qual a diferença entre usar o operador \\* ou a função *dot* na multiplicação da matriz *mul* pela matriz identidade."
   ]
  },
  {
   "cell_type": "code",
   "execution_count": 19,
   "metadata": {},
   "outputs": [
    {
     "data": {
      "text/plain": [
       "array([[ 7.,  0.],\n",
       "       [ 0., 17.]])"
      ]
     },
     "execution_count": 19,
     "metadata": {},
     "output_type": "execute_result"
    }
   ],
   "source": [
    "mul*np.identity(2)"
   ]
  },
  {
   "cell_type": "code",
   "execution_count": 20,
   "metadata": {},
   "outputs": [
    {
     "data": {
      "text/plain": [
       "array([[ 7.,  7.],\n",
       "       [13., 17.]])"
      ]
     },
     "execution_count": 20,
     "metadata": {},
     "output_type": "execute_result"
    }
   ],
   "source": [
    "np.dot(mul,np.identity(2))"
   ]
  },
  {
   "cell_type": "markdown",
   "metadata": {},
   "source": [
    "Enquanto que * faz a multiplicação elemento a elemento, já com o dot é feito o produto das matrizes, resultando na matriz mul. "
   ]
  },
  {
   "cell_type": "markdown",
   "metadata": {},
   "source": [
    "11 - Calcula a inversa da matriz *mul*. (Explora o módulo para algebra linear *np.linalg*)"
   ]
  },
  {
   "cell_type": "markdown",
   "metadata": {},
   "source": [
    "$A.A^{-1} = I$\n",
    "\n",
    "Uma matriz só tem inversa se o seu determinante for diferente de zero. Caso o determinante det(B) seja igual a zero, a matriz não possui inversa."
   ]
  },
  {
   "cell_type": "code",
   "execution_count": 21,
   "metadata": {},
   "outputs": [
    {
     "data": {
      "text/plain": [
       "27.999999999999996"
      ]
     },
     "execution_count": 21,
     "metadata": {},
     "output_type": "execute_result"
    }
   ],
   "source": [
    "np.linalg.det(mul) # o determinante é diferente de zero, por isso, tem inversa"
   ]
  },
  {
   "cell_type": "code",
   "execution_count": 22,
   "metadata": {},
   "outputs": [
    {
     "data": {
      "text/plain": [
       "array([[ 0.60714286, -0.25      ],\n",
       "       [-0.46428571,  0.25      ]])"
      ]
     },
     "execution_count": 22,
     "metadata": {},
     "output_type": "execute_result"
    }
   ],
   "source": [
    "mul_inv = np.linalg.inv(mul)\n",
    "mul_inv"
   ]
  },
  {
   "cell_type": "code",
   "execution_count": 23,
   "metadata": {},
   "outputs": [
    {
     "data": {
      "text/plain": [
       "array([[1., 0.],\n",
       "       [0., 1.]])"
      ]
     },
     "execution_count": 23,
     "metadata": {},
     "output_type": "execute_result"
    }
   ],
   "source": [
    "np.dot(mul,mul_inv)"
   ]
  },
  {
   "cell_type": "code",
   "execution_count": 24,
   "metadata": {},
   "outputs": [
    {
     "data": {
      "text/plain": [
       "array([[1., 0.],\n",
       "       [0., 1.]])"
      ]
     },
     "execution_count": 24,
     "metadata": {},
     "output_type": "execute_result"
    }
   ],
   "source": [
    "np.identity(2)"
   ]
  },
  {
   "cell_type": "code",
   "execution_count": 25,
   "metadata": {},
   "outputs": [
    {
     "data": {
      "text/plain": [
       "array([[ True,  True],\n",
       "       [ True,  True]])"
      ]
     },
     "execution_count": 25,
     "metadata": {},
     "output_type": "execute_result"
    }
   ],
   "source": [
    "np.dot(mul,mul_inv) == np.identity(2)"
   ]
  },
  {
   "cell_type": "markdown",
   "metadata": {},
   "source": [
    "12 - O que obtens se multiplicares a matriz mul pela sua inversa?"
   ]
  },
  {
   "cell_type": "raw",
   "metadata": {},
   "source": [
    "np.dot(mul,mul_inv) # a matriz identidade, tal como esperado"
   ]
  }
 ],
 "metadata": {
  "anaconda-cloud": {},
  "kernelspec": {
   "display_name": "Python 3",
   "language": "python",
   "name": "python3"
  },
  "language_info": {
   "codemirror_mode": {
    "name": "ipython",
    "version": 3
   },
   "file_extension": ".py",
   "mimetype": "text/x-python",
   "name": "python",
   "nbconvert_exporter": "python",
   "pygments_lexer": "ipython3",
   "version": "3.8.3"
  }
 },
 "nbformat": 4,
 "nbformat_minor": 4
}
